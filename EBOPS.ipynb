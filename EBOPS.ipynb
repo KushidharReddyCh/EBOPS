{
 "cells": [
  {
   "cell_type": "code",
   "execution_count": 12,
   "id": "7fbd8829",
   "metadata": {},
   "outputs": [],
   "source": [
    "# all the libraries\n",
    "import pandas as pd\n",
    "import json\n",
    "import getpass\n",
    "import sys\n",
    "import tweepy\n",
    "import webbrowser\n",
    "import time\n",
    "import warnings\n",
    "import time\n",
    "from selenium import webdriver\n",
    "from webdriver_manager.chrome import ChromeDriverManager\n",
    "from selenium.webdriver.support.ui import WebDriverWait\n",
    "from selenium.webdriver.support import expected_conditions as EC\n",
    "from selenium.webdriver.common.by import By\n",
    "warnings.filterwarnings('ignore')\n",
    "import bs4"
   ]
  },
  {
   "cell_type": "code",
   "execution_count": 2,
   "id": "739109fa",
   "metadata": {},
   "outputs": [
    {
     "name": "stderr",
     "output_type": "stream",
     "text": [
      "\n",
      "\n",
      "====== WebDriver manager ======\n",
      "Current google-chrome version is 100.0.4896\n",
      "Get LATEST chromedriver version for 100.0.4896 google-chrome\n",
      "There is no [mac64] chromedriver for browser  in cache\n",
      "Trying to download new driver from https://chromedriver.storage.googleapis.com/100.0.4896.60/chromedriver_mac64.zip\n",
      "Driver has been saved in cache [/Users/kushidhar/.wdm/drivers/chromedriver/mac64/100.0.4896.60]\n"
     ]
    }
   ],
   "source": [
    "# initiate a webdriver session\n",
    "driver = webdriver.Chrome(ChromeDriverManager().install())"
   ]
  },
  {
   "cell_type": "code",
   "execution_count": 7,
   "id": "21f1c93a",
   "metadata": {},
   "outputs": [],
   "source": [
    "wait = WebDriverWait(driver,20)"
   ]
  },
  {
   "cell_type": "code",
   "execution_count": 8,
   "id": "82489ec0",
   "metadata": {},
   "outputs": [],
   "source": [
    "driver.maximize_window()"
   ]
  },
  {
   "cell_type": "code",
   "execution_count": 9,
   "id": "a06c9337",
   "metadata": {},
   "outputs": [],
   "source": [
    "driver.get('https://stats.oecd.org/Index.aspx?DataSetCode=TISP_EBOPS2010')"
   ]
  },
  {
   "cell_type": "code",
   "execution_count": 10,
   "id": "c7ae426a",
   "metadata": {},
   "outputs": [
    {
     "name": "stdout",
     "output_type": "stream",
     "text": [
      "not in source...\n"
     ]
    }
   ],
   "source": [
    "source = driver.page_source\n",
    "if 'stuff' in source:\n",
    "    print('found...')\n",
    "else:\n",
    "    print('not in source...')"
   ]
  },
  {
   "cell_type": "code",
   "execution_count": 176,
   "id": "7c2fab2b",
   "metadata": {},
   "outputs": [
    {
     "name": "stdout",
     "output_type": "stream",
     "text": [
      "['2\\xa0025', '2\\xa0305', '2\\xa0459', '2\\xa0030', '1\\xa0086', '378', '952', '1\\xa0291', '1\\xa0365', '1\\xa0665', '2\\xa0327', '3\\xa0338', '3\\xa0376']\n",
      "2 025\n",
      "2 305\n",
      "2 459\n",
      "2 030\n",
      "1 086\n",
      "378\n",
      "952\n",
      "1 291\n",
      "1 365\n",
      "1 665\n",
      "2 327\n",
      "3 338\n",
      "3 376\n"
     ]
    }
   ],
   "source": [
    "res = soup.findAll('table',{'class':'DataTable'})\n",
    "a = res[0].findAll('tbody')\n",
    "b = (a[0].findAll('tr'))\n",
    "for i in range(len(b)):\n",
    "    s = (((str(b[i].findAll('span')).split(\">\")[1]).split(\"<\"))[0][1:])\n",
    "    if s == \"India\":\n",
    "        data = b[i].findAll('td')\n",
    "        li = []\n",
    "        for i in range(2,len(data)):\n",
    "            elem = ((str(data[i]).split(\">\")[1])[:-4])\n",
    "            li.append(str(elem))\n",
    "        filename = \"Cool\"\n",
    "        with open(filename,'w',encoding = 'utf-8') as f:\n",
    "            print(li)\n",
    "            for p in li:\n",
    "                print(p)\n",
    "                f.write(p)\n",
    "            f.write(\"\\n\")\n",
    "            for p in li:\n",
    "#                 print(p)\n",
    "                f.write(p)"
   ]
  },
  {
   "cell_type": "code",
   "execution_count": 179,
   "id": "b5484b88",
   "metadata": {},
   "outputs": [
    {
     "ename": "ModuleNotFoundError",
     "evalue": "No module named 'unidecode'",
     "output_type": "error",
     "traceback": [
      "\u001b[0;31m---------------------------------------------------------------------------\u001b[0m",
      "\u001b[0;31mModuleNotFoundError\u001b[0m                       Traceback (most recent call last)",
      "\u001b[0;32m<ipython-input-179-9647f1e6e468>\u001b[0m in \u001b[0;36m<module>\u001b[0;34m\u001b[0m\n\u001b[0;32m----> 1\u001b[0;31m \u001b[0;32mimport\u001b[0m \u001b[0munidecode\u001b[0m\u001b[0;34m\u001b[0m\u001b[0;34m\u001b[0m\u001b[0m\n\u001b[0m\u001b[1;32m      2\u001b[0m \u001b[0mprint\u001b[0m\u001b[0;34m(\u001b[0m\u001b[0mli\u001b[0m\u001b[0;34m)\u001b[0m\u001b[0;34m\u001b[0m\u001b[0;34m\u001b[0m\u001b[0m\n\u001b[1;32m      3\u001b[0m \u001b[0;31m# word = unidecode.unidecode(word)\u001b[0m\u001b[0;34m\u001b[0m\u001b[0;34m\u001b[0m\u001b[0;34m\u001b[0m\u001b[0m\n",
      "\u001b[0;31mModuleNotFoundError\u001b[0m: No module named 'unidecode'"
     ]
    }
   ],
   "source": [
    "import unidecode\n",
    "print(li)\n",
    "# word = unidecode.unidecode(word)"
   ]
  },
  {
   "cell_type": "code",
   "execution_count": 119,
   "id": "5a90b9d2",
   "metadata": {},
   "outputs": [
    {
     "name": "stdout",
     "output_type": "stream",
     "text": [
      "Canada\n"
     ]
    }
   ],
   "source": [
    "res = soup.findAll('table',{'class':'DataTable'})\n",
    "a = res[0].findAll('tbody')\n",
    "b = (a[0].findAll('tr'))\n",
    "s = (((str(b[3].findAll('span')).split(\">\")[1]).split(\"<\"))[0][1:])\n",
    "data = "
   ]
  },
  {
   "cell_type": "code",
   "execution_count": 143,
   "id": "1548da3c",
   "metadata": {},
   "outputs": [
    {
     "data": {
      "text/plain": [
       "'-339'"
      ]
     },
     "execution_count": 143,
     "metadata": {},
     "output_type": "execute_result"
    }
   ],
   "source": [
    "(str((b[3].findAll(\"td\"))[3]).split(\">\")[1])[:-4]"
   ]
  },
  {
   "cell_type": "code",
   "execution_count": 178,
   "id": "d3407961",
   "metadata": {},
   "outputs": [
    {
     "name": "stdout",
     "output_type": "stream",
     "text": [
      "Collecting unicode\n",
      "  Downloading unicode-2.8-py2.py3-none-any.whl (14 kB)\n",
      "Installing collected packages: unicode\n",
      "Successfully installed unicode-2.8\n",
      "Note: you may need to restart the kernel to use updated packages.\n"
     ]
    }
   ],
   "source": [
    "pip install unicode"
   ]
  },
  {
   "cell_type": "code",
   "execution_count": 180,
   "id": "4c8b0af6",
   "metadata": {},
   "outputs": [
    {
     "ename": "ModuleNotFoundError",
     "evalue": "No module named 'unicode'",
     "output_type": "error",
     "traceback": [
      "\u001b[0;31m---------------------------------------------------------------------------\u001b[0m",
      "\u001b[0;31mModuleNotFoundError\u001b[0m                       Traceback (most recent call last)",
      "\u001b[0;32m<ipython-input-180-15293d0741a3>\u001b[0m in \u001b[0;36m<module>\u001b[0;34m\u001b[0m\n\u001b[0;32m----> 1\u001b[0;31m \u001b[0;32mimport\u001b[0m \u001b[0municode\u001b[0m\u001b[0;34m\u001b[0m\u001b[0;34m\u001b[0m\u001b[0m\n\u001b[0m",
      "\u001b[0;31mModuleNotFoundError\u001b[0m: No module named 'unicode'"
     ]
    }
   ],
   "source": [
    "import unicode"
   ]
  },
  {
   "cell_type": "code",
   "execution_count": null,
   "id": "33e0be41",
   "metadata": {},
   "outputs": [],
   "source": []
  }
 ],
 "metadata": {
  "kernelspec": {
   "display_name": "Python 3",
   "language": "python",
   "name": "python3"
  },
  "language_info": {
   "codemirror_mode": {
    "name": "ipython",
    "version": 3
   },
   "file_extension": ".py",
   "mimetype": "text/x-python",
   "name": "python",
   "nbconvert_exporter": "python",
   "pygments_lexer": "ipython3",
   "version": "3.8.8"
  }
 },
 "nbformat": 4,
 "nbformat_minor": 5
}
